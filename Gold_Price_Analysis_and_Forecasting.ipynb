{
  "nbformat": 4,
  "nbformat_minor": 0,
  "metadata": {
    "colab": {
      "provenance": []
    },
    "kernelspec": {
      "name": "python3",
      "display_name": "Python 3"
    },
    "language_info": {
      "name": "python"
    }
  },
  "cells": [
    {
      "cell_type": "markdown",
      "source": [
        "# **Real-Time Gold Price Analyzer**\n",
        "#### By Eshal Shanoj, 16/04/2025\n",
        "\n",
        "*This project fetches live gold prices, forecasts future prices using ARIMA, and displays everything in an interactive Streamlit dashboard.*\n"
      ],
      "metadata": {
        "id": "x-QD0soxqnT0"
      }
    },
    {
      "cell_type": "markdown",
      "source": [
        "**Installations**"
      ],
      "metadata": {
        "id": "eFq3-aO-gdw0"
      }
    },
    {
      "cell_type": "code",
      "source": [
        "!pip install yfinance keras plotly statsmodels streamlit python-dotenv pyngrok --quiet\n",
        "!npm install -g localtunnel\n",
        "!pip install pandas==2.2.2 --quiet\n",
        "!pip install python-dotenv --quiet"
      ],
      "metadata": {
        "id": "ycVU6tpdgdGU",
        "colab": {
          "base_uri": "https://localhost:8080/",
          "height": 0
        },
        "outputId": "45fdc9ac-3708-48d1-9fe2-1ee477dbd885"
      },
      "execution_count": 19,
      "outputs": [
        {
          "output_type": "stream",
          "name": "stdout",
          "text": [
            "\u001b[1G\u001b[0K⠙\u001b[1G\u001b[0K⠹\u001b[1G\u001b[0K⠸\u001b[1G\u001b[0K⠼\u001b[1G\u001b[0K⠴\u001b[1G\u001b[0K⠦\u001b[1G\u001b[0K⠧\u001b[1G\u001b[0K⠇\u001b[1G\u001b[0K⠏\u001b[1G\u001b[0K⠋\u001b[1G\u001b[0K⠙\u001b[1G\u001b[0K⠹\u001b[1G\u001b[0K⠸\u001b[1G\u001b[0K⠼\u001b[1G\u001b[0K⠴\u001b[1G\u001b[0K⠦\u001b[1G\u001b[0K⠧\u001b[1G\u001b[0K⠇\u001b[1G\u001b[0K⠏\u001b[1G\u001b[0K⠋\u001b[1G\u001b[0K⠙\u001b[1G\u001b[0K⠹\u001b[1G\u001b[0K⠸\u001b[1G\u001b[0K\n",
            "changed 22 packages in 3s\n",
            "\u001b[1G\u001b[0K⠸\u001b[1G\u001b[0K\n",
            "\u001b[1G\u001b[0K⠼\u001b[1G\u001b[0K3 packages are looking for funding\n",
            "\u001b[1G\u001b[0K⠼\u001b[1G\u001b[0K  run `npm fund` for details\n",
            "\u001b[1G\u001b[0K⠼\u001b[1G\u001b[0K"
          ]
        }
      ]
    },
    {
      "cell_type": "markdown",
      "source": [
        "**Setup & Imports**"
      ],
      "metadata": {
        "id": "cNLrEbmPhCEY"
      }
    },
    {
      "cell_type": "code",
      "source": [
        "import time\n",
        "import numpy as np\n",
        "import pandas as pd\n",
        "import streamlit as st\n",
        "import yfinance as yf\n",
        "from datetime import datetime\n",
        "from statsmodels.tsa.arima.model import ARIMA\n",
        "import plotly.graph_objects as go  # If using Plotly for charts\n",
        "import dotenv\n",
        "import os\n",
        "\n",
        "dotenv.load_dotenv('/content/.env')"
      ],
      "metadata": {
        "id": "Wanc33tThDiZ"
      },
      "execution_count": 26,
      "outputs": []
    },
    {
      "cell_type": "markdown",
      "source": [
        "**Fetch Gold Price (Real-time with Fallback)**"
      ],
      "metadata": {
        "id": "TLh8iOVzhFMJ"
      }
    },
    {
      "cell_type": "code",
      "source": [
        "USE_SIMULATED_DATA = False  # Set to True for testing with simulated data\n",
        "\n",
        "def fetch_yahoo_finance():\n",
        "    try:\n",
        "        data = yf.download(\"GC=F\", period=\"1d\", interval=\"1m\")\n",
        "        if not data.empty:\n",
        "            return data['Close'].iloc[-1]\n",
        "    except Exception as e:\n",
        "        print(f\"Yahoo Finance error: {e}\")\n",
        "    return None\n",
        "\n",
        "@st.cache_data(ttl=60)  # Cache for 1 minute\n",
        "def fetch_gold_price():\n",
        "    if USE_SIMULATED_DATA:\n",
        "        return 3260.0 + np.random.normal(0, 1)  # Updated baseline\n",
        "\n",
        "    # Try Yahoo Finance first\n",
        "    try:\n",
        "        price = fetch_yahoo_finance()\n",
        "        if price and 2500 < price < 4000:  # Reasonable range check\n",
        "            return price\n",
        "    except Exception as e:\n",
        "        print(f\"Yahoo Finance primary error: {e}\")\n",
        "\n",
        "    # If Yahoo Finance fails, return default\n",
        "    return 3260.0  # Updated fallback based on latest data"
      ],
      "metadata": {
        "id": "ud5xov1YhJAG",
        "colab": {
          "base_uri": "https://localhost:8080/",
          "height": 0
        },
        "outputId": "4b58fa7d-32ab-46c8-92f9-9f10e4b64bd4"
      },
      "execution_count": 21,
      "outputs": [
        {
          "output_type": "stream",
          "name": "stderr",
          "text": [
            "2025-04-17 07:24:48.669 WARNING streamlit.runtime.caching.cache_data_api: No runtime found, using MemoryCacheStorageManager\n"
          ]
        }
      ]
    },
    {
      "cell_type": "markdown",
      "source": [
        "**Real-Time Streamer**"
      ],
      "metadata": {
        "id": "OL8E2e54hOJ2"
      }
    },
    {
      "cell_type": "code",
      "source": [
        "# Updated chart creation code\n",
        "def create_price_chart(actual_df, forecast_values, forecast_dates):\n",
        "    fig = go.Figure()\n",
        "\n",
        "    # Actual prices\n",
        "    fig.add_trace(go.Scatter(\n",
        "        x=actual_df['Time'],\n",
        "        y=actual_df['Price'],\n",
        "        name='Actual',\n",
        "        line=dict(color='blue'),\n",
        "        mode='lines+markers'\n",
        "    ))\n",
        "\n",
        "    # Forecast (only if data exists)\n",
        "    if forecast_values and forecast_dates and len(forecast_values) == len(forecast_dates):\n",
        "        fig.add_trace(go.Scatter(\n",
        "            x=forecast_dates,\n",
        "            y=forecast_values,\n",
        "            name='Forecast',\n",
        "            line=dict(color='red', dash='dash'),\n",
        "            mode='lines+markers'\n",
        "        ))\n",
        "\n",
        "    fig.update_layout(\n",
        "        title='Gold Price: Actual vs Forecast',\n",
        "        xaxis_title='Time',\n",
        "        yaxis_title='Price (USD)',\n",
        "        xaxis=dict(tickformat='%H:%M'),\n",
        "        hovermode='x unified'\n",
        "    )\n",
        "    return fig\n",
        "\n",
        "    fig.update_layout(\n",
        "        title='Gold Price: Actual vs Forecast',\n",
        "        xaxis_title='Date & Time',\n",
        "        yaxis_title='Price (USD)',\n",
        "        hovermode='x unified',\n",
        "        xaxis=dict(\n",
        "            tickformat='%b %d %H:%M',\n",
        "            rangeslider=dict(visible=True))\n",
        "        )\n",
        "    return fig"
      ],
      "metadata": {
        "id": "LJcLrna5c7to"
      },
      "execution_count": 22,
      "outputs": []
    },
    {
      "cell_type": "markdown",
      "source": [
        "Streamlit App"
      ],
      "metadata": {
        "id": "t99a5vExharZ"
      }
    },
    {
      "cell_type": "code",
      "source": [
        "%%writefile app.py\n",
        "# app.py\n",
        "import streamlit as st\n",
        "import time\n",
        "import numpy as np\n",
        "import pandas as pd\n",
        "import os\n",
        "import requests\n",
        "from datetime import datetime, timedelta\n",
        "import yfinance as yf\n",
        "from statsmodels.tsa.arima.model import ARIMA\n",
        "import plotly.graph_objects as go\n",
        "\n",
        "# Configuration\n",
        "st.set_page_config(page_title=\"Gold Price Analysis & Forecasting\", layout=\"wide\")\n",
        "st.title(\"💰 Real-Time Gold Price Analyzer\")\n",
        "\n",
        "# Constants\n",
        "USE_SIMULATED_DATA = False\n",
        "SIMULATED_BASELINE = 3260\n",
        "REFRESH_INTERVAL = 60\n",
        "FORECAST_HORIZON = 12\n",
        "FORECAST_FREQ = '5min'\n",
        "\n",
        "# Initialize session state\n",
        "if 'prices' not in st.session_state:\n",
        "    st.session_state.prices = []\n",
        "if 'timestamps' not in st.session_state:\n",
        "    st.session_state.timestamps = []\n",
        "if 'forecasts' not in st.session_state:\n",
        "    st.session_state.forecasts = []\n",
        "if 'forecast_dates' not in st.session_state:\n",
        "    st.session_state.forecast_dates = []\n",
        "if 'last_price' not in st.session_state:\n",
        "    st.session_state.last_price = 0.0\n",
        "if 'refresh_counter' not in st.session_state:\n",
        "    st.session_state.refresh_counter = 0\n",
        "\n",
        "@st.cache_data(ttl=300)\n",
        "def fetch_gold_price():\n",
        "    if USE_SIMULATED_DATA:\n",
        "        return SIMULATED_BASELINE + np.random.normal(0, 50)  # <<< Updated volatility\n",
        "\n",
        "    price = fetch_yahoo_spot()\n",
        "    if price is not None and 2500 < price < 4000:\n",
        "        return price\n",
        "\n",
        "    return 3260.0  # Fallback to current market price\n",
        "\n",
        "def fetch_yahoo_spot():\n",
        "    data = yf.download(\"GC=F\", period=\"1d\", interval=\"1m\", progress=False)\n",
        "    if not data.empty:\n",
        "        return float(data['Close'].iloc[-1])\n",
        "    return None\n",
        "\n",
        "@st.cache_data(ttl=3600)\n",
        "def get_historical_data():\n",
        "    if USE_SIMULATED_DATA:\n",
        "        dates = pd.date_range(end=datetime.now(), periods=180)\n",
        "        prices = 1800 + np.cumsum(np.random.normal(0, 10, 180))\n",
        "        return pd.Series(prices, index=dates)\n",
        "\n",
        "    try:\n",
        "        return yf.download(\"GC=F\", period=\"6mo\", interval=\"1d\")['Close']\n",
        "    except:\n",
        "        dates = pd.date_range(end=datetime.now(), periods=180)\n",
        "        prices = 1800 + np.cumsum(np.random.normal(0, 10, 180))\n",
        "        return pd.Series(prices, index=dates)\n",
        "\n",
        "# --- Forecasting Functions ---\n",
        "def forecast_next_price(prices, steps=12, freq='5min'):\n",
        "    try:\n",
        "        # Convert to pandas Series if it's a list\n",
        "        if isinstance(prices, list):\n",
        "            series = pd.Series(prices)\n",
        "        else:\n",
        "            series = prices\n",
        "\n",
        "        model = ARIMA(series, order=(5,1,0))\n",
        "        model_fit = model.fit()\n",
        "        forecast = model_fit.forecast(steps=steps)\n",
        "\n",
        "        # Generate future dates starting from now\n",
        "        forecast_dates = [datetime.now() + timedelta(minutes=5*i) for i in range(1, steps+1)]\n",
        "\n",
        "        # Return forecast values and dates\n",
        "        return forecast.tolist(), forecast_dates\n",
        "    except Exception as e:\n",
        "        st.sidebar.error(f\"Forecasting error: {e}\")\n",
        "        last_price = prices[-1] if isinstance(prices, list) else prices.iloc[-1]\n",
        "\n",
        "        # Simple fallback forecast (slight increase)\n",
        "        forecast_values = [last_price * (1 + 0.0001*i) for i in range(1, steps+1)]\n",
        "        forecast_dates = [datetime.now() + timedelta(minutes=5*i) for i in range(1, steps+1)]\n",
        "\n",
        "        return forecast_values, forecast_dates\n",
        "\n",
        "# --- Visualization Functions ---\n",
        "def create_price_chart(actual_df, forecast_values, forecast_dates):\n",
        "    fig = go.Figure()\n",
        "\n",
        "    # Actual prices\n",
        "    fig.add_trace(go.Scatter(\n",
        "        x=actual_df['Time'],\n",
        "        y=actual_df['Price'],\n",
        "        name='Actual',\n",
        "        line=dict(color='blue'),\n",
        "        mode='lines+markers'\n",
        "    ))\n",
        "\n",
        "    # Forecast\n",
        "    if len(forecast_values) > 0 and len(forecast_dates) > 0:\n",
        "        fig.add_trace(go.Scatter(\n",
        "            x=forecast_dates,\n",
        "            y=forecast_values,\n",
        "            name='Forecast',\n",
        "            line=dict(color='red', dash='dash'),\n",
        "            mode='lines+markers'\n",
        "        ))\n",
        "\n",
        "    fig.update_layout(\n",
        "        title='Gold Price: Actual vs Forecast',\n",
        "        xaxis_title='Time',\n",
        "        yaxis_title='Price (USD)',\n",
        "        xaxis=dict(tickformat='%H:%M'),\n",
        "        hovermode='x unified'\n",
        "    )\n",
        "    return fig\n",
        "\n",
        "# --- Performance Metrics Functions ---\n",
        "def calculate_metrics(prices, forecasts):\n",
        "    if len(prices) < 2 or len(forecasts) == 0:\n",
        "        return {}\n",
        "\n",
        "    # We can only evaluate forecasts that have corresponding actual values\n",
        "    # So we use the forecast from time t-1 and compare to actual at time t\n",
        "    if len(prices) > len(forecasts):\n",
        "        actuals = prices[-len(forecasts):]\n",
        "    else:\n",
        "        actuals = prices[1:]  # Skip first actual\n",
        "        forecasts = forecasts[:len(actuals)]  # Truncate forecasts\n",
        "\n",
        "    errors = [a - f for a, f in zip(actuals, forecasts)]\n",
        "\n",
        "    return {\n",
        "        'MAE': np.mean(np.abs(errors)) if errors else 0,\n",
        "        'RMSE': np.sqrt(np.mean(np.square(errors))) if errors else 0,\n",
        "        'MAPE': np.mean(np.abs([e/a*100 for e, a in zip(errors, actuals) if a != 0])) if errors else 0,\n",
        "        'Last_Error': errors[-1] if errors else None,\n",
        "        'Volatility': np.std(prices[-30:]) if len(prices) >= 30 else np.std(prices)\n",
        "    }\n",
        "\n",
        "# --- Streamlit Dashboard Layout ---\n",
        "col1, col2 = st.columns([3, 1])\n",
        "\n",
        "with col2:\n",
        "    st.subheader(\"Live Gold Price\")\n",
        "    price_display = st.empty()\n",
        "    change_display = st.empty()\n",
        "\n",
        "    st.subheader(\"Forecast\")\n",
        "    forecast_display = st.empty()\n",
        "\n",
        "    # User input for forecast horizon\n",
        "    forecast_minutes = st.slider(\n",
        "        \"Forecast minutes ahead\",\n",
        "        min_value=5,\n",
        "        max_value=60,\n",
        "        value=5,\n",
        "        step=5\n",
        "    )\n",
        "\n",
        "    st.subheader(\"Analysis\")\n",
        "    metrics_container = st.container()\n",
        "\n",
        "    with st.expander(\"Debug Info\"):\n",
        "        st.write(f\"Refresh count: {st.session_state.refresh_counter}\")\n",
        "        st.write(f\"Data points: {len(st.session_state.prices)}\")\n",
        "\n",
        "with col1:\n",
        "    chart = st.empty()\n",
        "\n",
        "# --- Main App Logic ---\n",
        "# Main Data Processing\n",
        "current_price = fetch_gold_price()\n",
        "historical = get_historical_data()\n",
        "\n",
        "# Handle None price\n",
        "if current_price is None:\n",
        "    current_price = 1800.0\n",
        "\n",
        "# Calculate price change\n",
        "price_change = 0\n",
        "if st.session_state.last_price > 0:\n",
        "    price_change = current_price - st.session_state.last_price\n",
        "\n",
        "# Update session state\n",
        "st.session_state.timestamps.append(datetime.now())\n",
        "st.session_state.prices.append(current_price)\n",
        "st.session_state.last_price = current_price\n",
        "st.session_state.refresh_counter += 1\n",
        "\n",
        "# Generate forecasts\n",
        "if len(st.session_state.prices) >= 5:\n",
        "    forecast_values, forecast_dates = forecast_next_price(\n",
        "        st.session_state.prices,\n",
        "        steps=FORECAST_HORIZON,\n",
        "        freq=FORECAST_FREQ\n",
        "    )\n",
        "    st.session_state.forecasts = forecast_values\n",
        "    st.session_state.forecast_dates = forecast_dates\n",
        "\n",
        "# Prepare data for display\n",
        "actual_df = pd.DataFrame({\n",
        "    'Time': st.session_state.timestamps,\n",
        "    'Price': st.session_state.prices\n",
        "})\n",
        "\n",
        "# Keep only recent data\n",
        "if len(actual_df) > 60:\n",
        "    actual_df = actual_df.iloc[-60:]\n",
        "\n",
        "# Display chart\n",
        "fig = create_price_chart(actual_df, st.session_state.forecasts, st.session_state.forecast_dates)\n",
        "chart.plotly_chart(fig, use_container_width=True)\n",
        "\n",
        "# Update metrics displays\n",
        "price_display.metric(\n",
        "    \"Current Price\",\n",
        "    f\"${current_price:.2f}\" if current_price is not None else \"Data Unavailable\",\n",
        "    f\"{price_change:.2f}\" if price_change != 0 and price_change is not None else None\n",
        ")\n",
        "\n",
        "change_display.markdown(\n",
        "    \"⬆️ Rising\" if price_change > 0 else\n",
        "    \"⬇️ Falling\" if price_change < 0 else\n",
        "    \"➡️ Stable\"\n",
        ")\n",
        "\n",
        "# Show forecast for selected horizon\n",
        "if len(st.session_state.forecasts) > 0:\n",
        "    steps_ahead = forecast_minutes // 5\n",
        "    if steps_ahead <= len(st.session_state.forecasts):\n",
        "        selected_forecast = st.session_state.forecasts[steps_ahead - 1]\n",
        "        forecast_change = selected_forecast - current_price\n",
        "        forecast_display.metric(\n",
        "            f\"Next {forecast_minutes}min Forecast\",\n",
        "            f\"${selected_forecast:.2f}\",\n",
        "            f\"{forecast_change:.2f}\"\n",
        "        )\n",
        "    else:\n",
        "        forecast_display.info(f\"Forecast for {forecast_minutes}min not available. Max: {len(st.session_state.forecasts) * 5}min\")\n",
        "\n",
        "# Calculate and display performance metrics\n",
        "metrics = calculate_metrics(st.session_state.prices, st.session_state.forecasts)\n",
        "with metrics_container:\n",
        "    if metrics:\n",
        "        st.metric(\"Volatility (σ)\", f\"{metrics['Volatility']:.4f}\")\n",
        "        cols = st.columns(2)\n",
        "        cols[0].metric(\"MAE\", f\"{metrics['MAE']:.4f}\")\n",
        "        cols[1].metric(\"RMSE\", f\"{metrics['RMSE']:.4f}\")\n",
        "        if 'MAPE' in metrics:\n",
        "            cols[0].metric(\"MAPE (%)\", f\"{metrics['MAPE']:.2f}\")\n",
        "        if metrics['Last_Error'] is not None:\n",
        "            cols[1].metric(\"Last Error\", f\"{metrics['Last_Error']:.4f}\")\n",
        "\n",
        "# Auto-refresh\n",
        "time.sleep(REFRESH_INTERVAL)\n",
        "st.rerun()  # Updated from experimental_rerun\n"
      ],
      "metadata": {
        "id": "uv9VWxG-ha8t",
        "colab": {
          "base_uri": "https://localhost:8080/",
          "height": 0
        },
        "outputId": "fd8f2837-b4a0-4601-8999-e0e44dd856a7"
      },
      "execution_count": 23,
      "outputs": [
        {
          "output_type": "stream",
          "name": "stdout",
          "text": [
            "Overwriting app.py\n"
          ]
        }
      ]
    },
    {
      "cell_type": "markdown",
      "source": [
        "**Launch Everything** (Colab compatible)"
      ],
      "metadata": {
        "id": "SuHlNkZPhr3T"
      }
    },
    {
      "cell_type": "code",
      "source": [
        "# Import\n",
        "from pyngrok import ngrok\n",
        "import threading\n",
        "import os\n",
        "\n",
        "# Set auth token\n",
        "import os\n",
        "ngrok.set_auth_token(os.environ[\"NGROK_AUTHTOKEN\"])\n",
        "\n",
        "try:\n",
        "    # Check for existing tunnels\n",
        "    tunnels = ngrok.get_tunnels()\n",
        "    print(f\"Active tunnels: {len(tunnels)}\")\n",
        "\n",
        "    # Close existing tunnels\n",
        "    for tunnel in tunnels:\n",
        "        ngrok.disconnect(tunnel.public_url)\n",
        "        print(f\"Closed: {tunnel.public_url}\")\n",
        "except Exception as e:\n",
        "    print(f\"Error checking tunnels: {e}\")\n",
        "    # Continue anyway - this is just cleanup\n",
        "\n",
        "# Start a new tunnel\n",
        "try:\n",
        "    public_url = ngrok.connect(\"8501\", \"http\")\n",
        "    print(f\"📊 Streamlit Dashboard: {public_url}\")\n",
        "except Exception as e:\n",
        "    print(f\"Error starting ngrok: {e}\")\n",
        "    print(\"Trying to run Streamlit without ngrok...\")\n",
        "\n",
        "# Start Streamlit in a separate thread\n",
        "def start_streamlit():\n",
        "    os.system(\"streamlit run app.py --server.port 8501\")\n",
        "\n",
        "threading.Thread(target=start_streamlit).start()"
      ],
      "metadata": {
        "id": "NpyOAErC_OVk",
        "colab": {
          "base_uri": "https://localhost:8080/",
          "height": 0
        },
        "outputId": "41b7805a-7246-48e8-da1b-9df37f124bfc"
      },
      "execution_count": 24,
      "outputs": [
        {
          "output_type": "stream",
          "name": "stderr",
          "text": [
            "WARNING:pyngrok.process.ngrok:t=2025-04-17T07:24:48+0000 lvl=warn msg=\"Stopping forwarder\" name=http-8501-2fb07ee0-bb35-45c1-ba20-10f4a7f2defb acceptErr=\"failed to accept connection: Listener closed\"\n"
          ]
        },
        {
          "output_type": "stream",
          "name": "stdout",
          "text": [
            "Active tunnels: 1\n",
            "Closed: https://962f-34-55-120-169.ngrok-free.app\n",
            "📊 Streamlit Dashboard: NgrokTunnel: \"https://b1ca-34-55-120-169.ngrok-free.app\" -> \"http://localhost:8501\"\n"
          ]
        }
      ]
    },
    {
      "cell_type": "code",
      "source": [
        "import yfinance as yf\n",
        "data = yf.download(\"GC=F\", period=\"1d\", interval=\"1m\")\n",
        "print(data.tail())"
      ],
      "metadata": {
        "id": "A9RorFrfd8Hn",
        "colab": {
          "base_uri": "https://localhost:8080/",
          "height": 0
        },
        "outputId": "289339ac-6a19-4501-c662-93312c483cc6"
      },
      "execution_count": 25,
      "outputs": [
        {
          "output_type": "stream",
          "name": "stderr",
          "text": [
            "\r[*********************100%***********************]  1 of 1 completed"
          ]
        },
        {
          "output_type": "stream",
          "name": "stdout",
          "text": [
            "Price                            Close         High          Low         Open  \\\n",
            "Ticker                            GC=F         GC=F         GC=F         GC=F   \n",
            "Datetime                                                                        \n",
            "2025-04-17 07:10:00+00:00  3336.500000  3338.000000  3336.300049  3337.600098   \n",
            "2025-04-17 07:11:00+00:00  3336.600098  3337.000000  3336.300049  3336.399902   \n",
            "2025-04-17 07:12:00+00:00  3336.000000  3336.800049  3335.100098  3336.399902   \n",
            "2025-04-17 07:13:00+00:00  3334.300049  3335.899902  3334.100098  3335.800049   \n",
            "2025-04-17 07:14:00+00:00  3335.399902  3335.600098  3333.100098  3334.199951   \n",
            "\n",
            "Price                     Volume  \n",
            "Ticker                      GC=F  \n",
            "Datetime                          \n",
            "2025-04-17 07:10:00+00:00    150  \n",
            "2025-04-17 07:11:00+00:00    136  \n",
            "2025-04-17 07:12:00+00:00    260  \n",
            "2025-04-17 07:13:00+00:00    304  \n",
            "2025-04-17 07:14:00+00:00      0  \n"
          ]
        },
        {
          "output_type": "stream",
          "name": "stderr",
          "text": [
            "\n"
          ]
        }
      ]
    }
  ]
}